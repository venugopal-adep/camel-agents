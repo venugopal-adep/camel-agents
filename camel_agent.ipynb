{
 "cells": [
  {
   "cell_type": "markdown",
   "id": "7249fea1",
   "metadata": {},
   "source": [
    "# Building AI Role-Playing Agents with CAMEL Framework\n",
    "\n",
    "As an AI enthusiast, I recently experimented with the CAMEL (Communicative Agents for \"Mind\" Exploration of Large Scale Language Model Society) framework to create AI agents that can collaborate on tasks through role-playing. In this article, I'll share my experience implementing a simple but effective role-playing scenario using CAMEL.\n",
    "\n",
    "## What is CAMEL?\n",
    "\n",
    "CAMEL is an open-source framework that enables multiple AI agents to communicate with each other while assuming different roles. This creates a fascinating dynamic where AI agents can collaborate on tasks through structured conversations.\n",
    "\n",
    "## My Implementation\n",
    "\n",
    "I created a simple scenario where two AI agents interact - one playing the role of a \"Computer Programmer\" and the other as a \"Gamer.\" Their shared task was to design a custom game using Pygame.\n",
    "\n",
    "Here's the code I used:"
   ]
  },
  {
   "cell_type": "code",
   "execution_count": null,
   "id": "7822a0e9",
   "metadata": {},
   "outputs": [],
   "source": [
    "!pip install git+https://github.com/camel-ai/camel.git\n",
    "!pip install python-dotenv"
   ]
  },
  {
   "cell_type": "markdown",
   "id": "c738e16d",
   "metadata": {},
   "source": [
    "## Import libraries"
   ]
  },
  {
   "cell_type": "code",
   "execution_count": null,
   "id": "d2540d0a",
   "metadata": {},
   "outputs": [],
   "source": [
    "from colorama import Fore\n",
    "from camel.societies import RolePlaying\n",
    "from camel.utils import print_text_animated\n",
    "import os\n",
    "from dotenv import load_dotenv\n",
    "\n",
    "# Load environment variables from .env file\n",
    "load_dotenv()"
   ]
  },
  {
   "cell_type": "code",
   "execution_count": null,
   "id": "9816f650",
   "metadata": {},
   "outputs": [],
   "source": [
    "api_key = os.getenv(\"OPENAI_API_KEY\")\n",
    "task_prompt = \"Design a custom game using pygame\"\n",
    "print(Fore.YELLOW + f\"Original task prompt:\\n{task_prompt}\\n\")\n",
    "\n",
    "# Configure the model to use OpenAI API\n",
    "model_config = ChatGPTConfig(\n",
    "    model_type=ModelType.CHAT_GPT_4,\n",
    "    api_key=os.getenv(\"OPENAI_API_KEY\")\n",
    ")\n",
    "\n",
    "# Initialize the role-playing session with the model config\n",
    "role_play_session = RolePlaying(\n",
    "    \"Computer Programmer\", \n",
    "    \"Gamer\", \n",
    "    task_prompt=task_prompt,\n",
    "    model_config=model_config\n",
    ")\n",
    "\n",
    "print(Fore.CYAN + f\"Specified task prompt:\\n{role_play_session.task_prompt}\\n\")\n",
    "\n",
    "chat_turn_limit, n = 50, 0\n",
    "input_msg = role_play_session.init_chat()\n",
    "while n < chat_turn_limit:\n",
    "    n += 1\n",
    "    assistant_response, user_response = role_play_session.step(input_msg)\n",
    "    print_text_animated(Fore.BLUE +f\"AI User:\\n\\n{user_response.msg.content}\\n\")\n",
    "    print_text_animated(Fore.GREEN + \"AI Assistant:\\n\\n\"f\"{assistant_response.msg.content}\\n\")\n",
    "\n",
    "    if \"CAMEL_TASK_DONE\" in user_response.msg.content:\n",
    "        break\n",
    "\n",
    "    input_msg = assistant_response.msg"
   ]
  },
  {
   "cell_type": "markdown",
   "id": "038692dd",
   "metadata": {},
   "source": [
    "## How It Works\n",
    "\n",
    "1. First, I install the CAMEL framework directly from GitHub.\n",
    "2. I define a simple task prompt: \"Design a custom game using pygame\".\n",
    "3. I initialize a role-playing session with two roles: \"Computer Programmer\" (the assistant) and \"Gamer\" (the user).\n",
    "4. The framework expands the original task prompt into a more detailed one, which I display.\n",
    "5. I then initiate a conversation loop that allows the agents to communicate for up to 50 turns.\n",
    "6. For each turn, I display the messages from both agents with different colors for clarity.\n",
    "7. The conversation continues until either the maximum turns are reached or the user agent indicates the task is complete with the \"CAMEL_TASK_DONE\" marker.\n",
    "\n",
    "## What I Observed\n",
    "\n",
    "Running this code produced a fascinating dialogue. The \"Gamer\" agent shared ideas and requirements for the game, while the \"Computer Programmer\" agent responded with technical suggestions and implementation details for a Pygame-based game.\n",
    "\n",
    "The colored output made it easy to follow the conversation flow between the two agents. The framework even handles the natural conclusion of the task - when the agents agree they've completed the design, the user agent includes the \"CAMEL_TASK_DONE\" marker to end the conversation.\n",
    "\n",
    "## Why This Matters\n",
    "\n",
    "This experiment demonstrates how we can create specialized AI agents that collaborate through natural language. The possibilities extend far beyond game design - this approach could be used for:\n",
    "\n",
    "- Educational simulations\n",
    "- Software requirement gathering\n",
    "- Creative brainstorming sessions\n",
    "- Technical problem-solving\n",
    "\n",
    "## Next Steps\n",
    "\n",
    "After this initial experiment, I'm planning to:\n",
    "\n",
    "1. Create more complex role-playing scenarios with multiple agents\n",
    "2. Implement agents that can actually execute code based on their conversations\n",
    "3. Explore how different role combinations affect problem-solving approaches\n",
    "\n",
    "The CAMEL framework offers an accessible entry point to exploring multi-agent AI systems. If you're interested in AI collaboration or emergent behaviors in language models, I highly recommend giving it a try.\n",
    "\n",
    "Similar code found with 1 license type"
   ]
  }
 ],
 "metadata": {
  "kernelspec": {
   "display_name": "base",
   "language": "python",
   "name": "python3"
  },
  "language_info": {
   "name": "python",
   "version": "3.12.4"
  }
 },
 "nbformat": 4,
 "nbformat_minor": 5
}
